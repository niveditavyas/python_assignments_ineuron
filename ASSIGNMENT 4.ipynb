{
 "cells": [
  {
   "cell_type": "code",
   "execution_count": null,
   "id": "53b59520",
   "metadata": {},
   "outputs": [],
   "source": [
    "#Write a Python Program to Find the Factorial of a Number?\n",
    "#Write a Python Program to Display the multiplication Table?\n",
    "#Write a Python Program to Print the Fibonacci sequence?\n",
    "#Write a Python Program to Check Armstrong Number?\n",
    "#Write a Python Program to Find Armstrong Number in an Interval?\n",
    "#Write a Python Program to Find the Sum of Natural Numbers?"
   ]
  },
  {
   "cell_type": "code",
   "execution_count": 2,
   "id": "bb899f0b",
   "metadata": {},
   "outputs": [
    {
     "name": "stdout",
     "output_type": "stream",
     "text": [
      "Enter a number4\n",
      "24\n"
     ]
    }
   ],
   "source": [
    "#Write a Python Program to Find the Factorial of a Number?\n",
    "num = int(input(\"Enter a number\"))\n",
    "factorial = 1\n",
    "if num <0:\n",
    "    print(\"Factorial does not exist\")\n",
    "elif num == 0:\n",
    "    print(\"Factorial is 1\")\n",
    "else: \n",
    "    for i in range(1,num+1):\n",
    "        factorial = factorial*i\n",
    "                    \n",
    "print(factorial)          \n",
    "            "
   ]
  },
  {
   "cell_type": "code",
   "execution_count": 5,
   "id": "979eeac5",
   "metadata": {},
   "outputs": [
    {
     "name": "stdout",
     "output_type": "stream",
     "text": [
      "Enter a number2\n",
      "2\n",
      "4\n",
      "6\n",
      "8\n",
      "10\n",
      "12\n",
      "14\n",
      "16\n",
      "18\n",
      "20\n"
     ]
    }
   ],
   "source": [
    "#Write a Python Program to Display the multiplication Table?\n",
    "num = int(input(\"Enter a number\"))\n",
    "\n",
    "for i in range(1,11):\n",
    "    print(num*i)"
   ]
  },
  {
   "cell_type": "code",
   "execution_count": 2,
   "id": "fdea90a8",
   "metadata": {},
   "outputs": [
    {
     "name": "stdout",
     "output_type": "stream",
     "text": [
      "4\n",
      "0 1 1 2 3 "
     ]
    }
   ],
   "source": [
    "#Write a Python Program to Print the Fibonacci sequence?\n",
    "num1 = 0\n",
    "num2 = 1\n",
    "rangeoff = int(input())\n",
    "print(num1, end= \" \")\n",
    "print(num2, end = \" \")\n",
    "num3 = num1 + num2 \n",
    "\n",
    "while(num3<=rangeoff):\n",
    "    print(num3, end=\" \")\n",
    "    num1= num2\n",
    "    num2 = num3\n",
    "    num3 = num1 + num2\n",
    "\n"
   ]
  },
  {
   "cell_type": "code",
   "execution_count": 4,
   "id": "24b1c8dc",
   "metadata": {},
   "outputs": [
    {
     "name": "stdout",
     "output_type": "stream",
     "text": [
      "False\n"
     ]
    }
   ],
   "source": [
    "#Write a Python Program to Check Armstrong Number?\n",
    "def power(x, y):\n",
    "     \n",
    "    if y == 0:\n",
    "        return 1\n",
    "    if y % 2 == 0:\n",
    "        return power(x, y // 2) * power(x, y // 2)\n",
    "         \n",
    "    return x * power(x, y // 2) * power(x, y // 2)\n",
    " \n",
    "\n",
    "def order(x):\n",
    " \n",
    "    \n",
    "    n = 0\n",
    "    while (x != 0):\n",
    "        n = n + 1\n",
    "        x = x // 10\n",
    "         \n",
    "    return n\n",
    " \n",
    "def isArmstrong(x):\n",
    "     \n",
    "    n = order(x)\n",
    "    temp = x\n",
    "    sum1 = 0\n",
    "     \n",
    "    while (temp != 0):\n",
    "        r = temp % 10\n",
    "        sum1 = sum1 + power(r, n)\n",
    "        temp = temp // 10\n",
    " \n",
    "    \n",
    "    return (sum1 == x)\n",
    "\n",
    "x = 203\n",
    "print(isArmstrong(x))"
   ]
  },
  {
   "cell_type": "code",
   "execution_count": 7,
   "id": "e433fac7",
   "metadata": {},
   "outputs": [
    {
     "name": "stdout",
     "output_type": "stream",
     "text": [
      "100\n",
      "500\n",
      "125\n",
      "153\n",
      "216\n",
      "370\n",
      "371\n",
      "407\n"
     ]
    }
   ],
   "source": [
    "#Write a Python Program to Find Armstrong Number in an Interval?\n",
    "lower_range = int(input(\"\"))  \n",
    "upper_range = int(input(\"\"))  \n",
    "  \n",
    "for num in range(lower_range,upper_range + 1):  \n",
    "   sum = 0  \n",
    "   temp = num  \n",
    "   while temp > 0:  \n",
    "       digit = temp % 10  \n",
    "       sum += digit ** 3  \n",
    "       temp //= 10  \n",
    "       if num == sum:  \n",
    "            print(num)  \n"
   ]
  },
  {
   "cell_type": "code",
   "execution_count": 7,
   "id": "e0f95337",
   "metadata": {},
   "outputs": [
    {
     "name": "stdout",
     "output_type": "stream",
     "text": [
      "Enter a number10\n",
      "55.0\n"
     ]
    }
   ],
   "source": [
    "#Write a Python Program to Find the Sum of Natural Numbers?\n",
    "num = int(input(\"Enter a number\"))\n",
    "numm = num*(num+1)\n",
    "sumofn = (numm)/2\n",
    "print(sumofn)"
   ]
  }
 ],
 "metadata": {
  "kernelspec": {
   "display_name": "Python 3 (ipykernel)",
   "language": "python",
   "name": "python3"
  },
  "language_info": {
   "codemirror_mode": {
    "name": "ipython",
    "version": 3
   },
   "file_extension": ".py",
   "mimetype": "text/x-python",
   "name": "python",
   "nbconvert_exporter": "python",
   "pygments_lexer": "ipython3",
   "version": "3.9.12"
  }
 },
 "nbformat": 4,
 "nbformat_minor": 5
}
