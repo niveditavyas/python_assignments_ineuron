{
 "cells": [
  {
   "cell_type": "code",
   "execution_count": null,
   "id": "a6d5c1f8",
   "metadata": {},
   "outputs": [],
   "source": [
    "#Write a Python program to convert kilometers to miles?\n",
    "#Write a Python program to convert Celsius to Fahrenheit?\n",
    "#Write a Python program to display calendar?\n",
    "#Write a Python program to solve quadratic equation?\n",
    "#Write a Python program to swap two variables without temp variable?\n"
   ]
  },
  {
   "cell_type": "code",
   "execution_count": 3,
   "id": "0e39a042",
   "metadata": {},
   "outputs": [
    {
     "name": "stdout",
     "output_type": "stream",
     "text": [
      "Enter a value in kilometers23\n",
      "14.2915376 miles\n"
     ]
    }
   ],
   "source": [
    "#Write a Python program to convert kilometers to miles?\n",
    "kilo = int(input(\"Enter a value in kilometers\"))\n",
    "miles = kilo*(0.6213712)\n",
    "print(miles,\"miles\")"
   ]
  },
  {
   "cell_type": "code",
   "execution_count": 6,
   "id": "62b1af2f",
   "metadata": {},
   "outputs": [
    {
     "name": "stdout",
     "output_type": "stream",
     "text": [
      "enter a temperature in celcius22\n",
      "71.6\n"
     ]
    }
   ],
   "source": [
    "#Write a Python program to convert Celsius to Fahrenheit?\n",
    "cel = float(input(\"enter a temperature in celcius\"))\n",
    "faren = (cel*(1.8))+32\n",
    "print(faren)"
   ]
  },
  {
   "cell_type": "code",
   "execution_count": 9,
   "id": "2da5cf28",
   "metadata": {},
   "outputs": [
    {
     "name": "stdout",
     "output_type": "stream",
     "text": [
      "Year you want to see2019\n",
      "month you want to see7\n",
      "     July 2019\n",
      "Mo Tu We Th Fr Sa Su\n",
      " 1  2  3  4  5  6  7\n",
      " 8  9 10 11 12 13 14\n",
      "15 16 17 18 19 20 21\n",
      "22 23 24 25 26 27 28\n",
      "29 30 31\n",
      "\n"
     ]
    }
   ],
   "source": [
    "#Write a Python program to display calendar?\n",
    "import calendar\n",
    "year = int(input(\"Year you want to see\"))\n",
    "month = int(input(\"month you want to see\"))\n",
    "print(calendar.month(year,month))"
   ]
  },
  {
   "cell_type": "code",
   "execution_count": 14,
   "id": "4fbe6052",
   "metadata": {},
   "outputs": [
    {
     "name": "stdout",
     "output_type": "stream",
     "text": [
      "Enter the x^2 coefficient1\n",
      "Enter the x coefficient2\n",
      "Enter the constant term1\n",
      "(-1+0j)\n",
      "(-1+0j)\n"
     ]
    }
   ],
   "source": [
    "#Write a Python program to solve quadratic equation?\n",
    "import cmath\n",
    "a = int(input(\"Enter the x^2 coefficient\"))\n",
    "b = int(input(\"Enter the x coefficient\"))\n",
    "c = int(input(\"Enter the constant term\"))\n",
    "d = (b**2) - (4*a*c)\n",
    "plus = (-b+cmath.sqrt(d))/(2*a)\n",
    "minus = (-b-cmath.sqrt(d))/(2*a)\n",
    "print(plus)\n",
    "print(minus)"
   ]
  },
  {
   "cell_type": "code",
   "execution_count": 15,
   "id": "979a4d3a",
   "metadata": {},
   "outputs": [
    {
     "name": "stdout",
     "output_type": "stream",
     "text": [
      "Enter a number2\n",
      "Enter another number3\n",
      "3\n",
      "2\n"
     ]
    }
   ],
   "source": [
    "#Write a Python program to swap two variables without temp variable?\n",
    "a = int(input(\"Enter a number\"))\n",
    "b = int(input(\"Enter another number\"))\n",
    "a,b = b,a\n",
    "print(a)\n",
    "print(b)"
   ]
  },
  {
   "cell_type": "code",
   "execution_count": null,
   "id": "715f40fa",
   "metadata": {},
   "outputs": [],
   "source": []
  }
 ],
 "metadata": {
  "kernelspec": {
   "display_name": "Python 3 (ipykernel)",
   "language": "python",
   "name": "python3"
  },
  "language_info": {
   "codemirror_mode": {
    "name": "ipython",
    "version": 3
   },
   "file_extension": ".py",
   "mimetype": "text/x-python",
   "name": "python",
   "nbconvert_exporter": "python",
   "pygments_lexer": "ipython3",
   "version": "3.9.12"
  }
 },
 "nbformat": 4,
 "nbformat_minor": 5
}
